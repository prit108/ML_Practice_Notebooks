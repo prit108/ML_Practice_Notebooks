{
 "cells": [
  {
   "cell_type": "markdown",
   "metadata": {},
   "source": [
    "### Bernoulli Naive-Bayes Model"
   ]
  },
  {
   "cell_type": "code",
   "execution_count": 1,
   "metadata": {},
   "outputs": [],
   "source": [
    "import numpy as np\n",
    "import pandas as pd\n",
    "\n",
    "np.set_printoptions(precision=4, suppress=True)"
   ]
  },
  {
   "cell_type": "code",
   "execution_count": 2,
   "metadata": {},
   "outputs": [],
   "source": [
    "np.random.seed(0)\n",
    "\n",
    "data = np.random.rand(200,5)\n",
    "data = np.round(data, decimals=0)\n",
    "X_train = data[:150, :-1]\n",
    "y_train = data[:150, -1]\n",
    "\n",
    "X_test = data[150:, :-1]\n",
    "y_test = data[150:, -1]"
   ]
  },
  {
   "cell_type": "code",
   "execution_count": 3,
   "metadata": {},
   "outputs": [
    {
     "data": {
      "text/plain": [
       "((50, 4), (50,))"
      ]
     },
     "execution_count": 3,
     "metadata": {},
     "output_type": "execute_result"
    }
   ],
   "source": [
    "X_test.shape, y_test.shape"
   ]
  },
  {
   "cell_type": "markdown",
   "metadata": {},
   "source": [
    "Base Model"
   ]
  },
  {
   "cell_type": "code",
   "execution_count": 4,
   "metadata": {},
   "outputs": [],
   "source": [
    "from sklearn.naive_bayes import BernoulliNB\n",
    "gnb = BernoulliNB()\n",
    "y_pred = gnb.fit(X_train, y_train).predict(X_test)"
   ]
  },
  {
   "cell_type": "code",
   "execution_count": 5,
   "metadata": {},
   "outputs": [
    {
     "data": {
      "text/plain": [
       "0.48"
      ]
     },
     "execution_count": 5,
     "metadata": {},
     "output_type": "execute_result"
    }
   ],
   "source": [
    "np.sum(y_pred == y_test) / len(y_test)"
   ]
  },
  {
   "cell_type": "code",
   "execution_count": 6,
   "metadata": {},
   "outputs": [],
   "source": [
    "class Naive_Bayes:\n",
    "    \"\"\"Implements Bernoulli Naive-Bayes with Laplace Smoothing\"\"\"\n",
    "    def compute_Px1y1(self, X, y):\n",
    "        return (np.sum(X[y==1], axis=0) + 1) / (np.sum(y==1) + self.no_feat)\n",
    "    \n",
    "    def compute_Px1y0(self, X, y):\n",
    "        return (np.sum(X[y==0], axis=0) + 1) / (np.sum(y==0) + self.no_feat)\n",
    "    \n",
    "    def compute_Px0y0(self, X, y):\n",
    "        return 1 - self.compute_Px1y0(X, y)\n",
    "    \n",
    "    def compute_Px0y1(self, X, y):\n",
    "        return 1 - self.compute_Px1y1(X, y)\n",
    "    \n",
    "    def compute_Py1(self, y):\n",
    "        n = len(y)\n",
    "        return (1/n) * np.sum(y==1)\n",
    "    \n",
    "    def compute_Py0(self, y):\n",
    "        return 1 - self.compute_Py1(y)\n",
    "    \n",
    "    def fit(self, X, y):\n",
    "        self.no_feat = X.shape[1]\n",
    "        # compute Px=i|y=i\n",
    "        self.PhiX1y1 = self.compute_Px1y1(X, y)\n",
    "        self.PhiX1y0 = self.compute_Px1y0(X, y)\n",
    "        self.PhiX0y0 = self.compute_Px0y0(X, y)\n",
    "        self.PhiX0y1 = self.compute_Px0y1(X, y)\n",
    "                      \n",
    "        self.Phiy1 = self.compute_Py1(y)\n",
    "        self.Phiy0 = self.compute_Py0(y)\n",
    "\n",
    "    def predict_proba(self, X):\n",
    "        Pxy0_i = np.zeros(X.shape)\n",
    "        Pxy1_i = np.zeros(X.shape)\n",
    "        n, d = X.shape\n",
    "        \n",
    "        assert(d == self.no_feat)\n",
    "        \n",
    "        for col in range(d):\n",
    "            np.put(Pxy1_i[:, col], np.where(X[:, col] == 1), self.PhiX1y1[col])\n",
    "            np.put(Pxy0_i[:, col], np.where(X[:, col] == 1), self.PhiX1y0[col])\n",
    "            np.put(Pxy1_i[:, col], np.where(X[:, col] == 0), self.PhiX0y1[col])\n",
    "            np.put(Pxy0_i[:, col], np.where(X[:, col] == 0), self.PhiX0y0[col])\n",
    "        \n",
    "        # Compute Px|y\n",
    "        Pxy1 = np.multiply.reduce(Pxy1_i, axis=1)\n",
    "        Pxy0 = np.multiply.reduce(Pxy0_i, axis=1)\n",
    "        \n",
    "        # Compute Py|x = Px|y * Py\n",
    "        Py0 = Pxy0 * self.Phiy0\n",
    "        Py0 = Py0.reshape(-1, 1)\n",
    "        \n",
    "        Py1 = Pxy1 * self.Phiy1\n",
    "        Py1 = Py1.reshape(-1, 1)\n",
    "                        \n",
    "        return np.concatenate((Py0, Py1), axis=1)\n",
    "    \n",
    "    def predict(self, X):\n",
    "        proba = self.predict_proba(X)\n",
    "        return np.argmax(proba, axis=1)\n",
    "    "
   ]
  },
  {
   "cell_type": "code",
   "execution_count": 7,
   "metadata": {},
   "outputs": [],
   "source": [
    "nb = Naive_Bayes()"
   ]
  },
  {
   "cell_type": "code",
   "execution_count": 8,
   "metadata": {},
   "outputs": [],
   "source": [
    "nb.fit(X_train, y_train)"
   ]
  },
  {
   "cell_type": "code",
   "execution_count": 9,
   "metadata": {},
   "outputs": [],
   "source": [
    "predictions = nb.predict(X_test)"
   ]
  },
  {
   "cell_type": "code",
   "execution_count": 10,
   "metadata": {},
   "outputs": [
    {
     "data": {
      "text/plain": [
       "array([1, 0, 0, 0, 0, 1, 1, 1, 0, 0, 1, 0, 1, 1, 1, 0, 0, 1, 1, 0, 0, 0,\n",
       "       0, 0, 0, 1, 0, 1, 1, 1, 0, 0, 0, 0, 0, 0, 0, 0, 1, 1, 1, 1, 1, 1,\n",
       "       0, 1, 0, 1, 1, 1])"
      ]
     },
     "execution_count": 10,
     "metadata": {},
     "output_type": "execute_result"
    }
   ],
   "source": [
    "predictions"
   ]
  },
  {
   "cell_type": "code",
   "execution_count": 11,
   "metadata": {},
   "outputs": [
    {
     "data": {
      "text/plain": [
       "0.48"
      ]
     },
     "execution_count": 11,
     "metadata": {},
     "output_type": "execute_result"
    }
   ],
   "source": [
    "np.sum(predictions == y_test) / len(y_test)"
   ]
  },
  {
   "cell_type": "code",
   "execution_count": 12,
   "metadata": {},
   "outputs": [
    {
     "data": {
      "text/plain": [
       "array([[0.0343, 0.036 ],\n",
       "       [0.0265, 0.025 ],\n",
       "       [0.0265, 0.025 ],\n",
       "       [0.0343, 0.0226],\n",
       "       [0.0265, 0.025 ]])"
      ]
     },
     "execution_count": 12,
     "metadata": {},
     "output_type": "execute_result"
    }
   ],
   "source": [
    "nb.predict_proba(X_test)[0:5]"
   ]
  },
  {
   "cell_type": "code",
   "execution_count": null,
   "metadata": {},
   "outputs": [],
   "source": []
  }
 ],
 "metadata": {
  "kernelspec": {
   "display_name": "Python 3",
   "language": "python",
   "name": "python3"
  },
  "language_info": {
   "codemirror_mode": {
    "name": "ipython",
    "version": 3
   },
   "file_extension": ".py",
   "mimetype": "text/x-python",
   "name": "python",
   "nbconvert_exporter": "python",
   "pygments_lexer": "ipython3",
   "version": "3.8.5"
  }
 },
 "nbformat": 4,
 "nbformat_minor": 4
}
