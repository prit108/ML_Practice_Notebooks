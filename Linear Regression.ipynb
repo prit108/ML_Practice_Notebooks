{
 "cells": [
  {
   "cell_type": "code",
   "execution_count": 166,
   "metadata": {},
   "outputs": [],
   "source": [
    "import pandas as pd\n",
    "import numpy as np\n",
    "import matplotlib.pyplot as plt\n",
    "from sklearn.linear_model import LinearRegression"
   ]
  },
  {
   "cell_type": "markdown",
   "metadata": {},
   "source": [
    "<h3>Data Splitting Methods"
   ]
  },
  {
   "cell_type": "code",
   "execution_count": 167,
   "metadata": {},
   "outputs": [
    {
     "name": "stdout",
     "output_type": "stream",
     "text": [
      "   a  b  c\n",
      "0  1  2  3\n",
      "1  4  5  6\n",
      "2  7  8  9\n",
      "   a  b  c\n",
      "0  1  2  3\n",
      "   col1  col2\n",
      "0     1     3\n",
      "1     2     4\n",
      "(2, 2) (3, 3)\n",
      "[[1 2 3]\n",
      " [4 5 6]\n",
      " [7 8 9]]\n",
      "[[0.294665   0.53058676 0.19152079]\n",
      " [0.06790036 0.78698546 0.65633352]]\n",
      "[[0.294665  ]\n",
      " [0.53058676]\n",
      " [0.19152079]\n",
      " [0.06790036]\n",
      " [0.78698546]\n",
      " [0.65633352]]\n",
      "[[1.01677255]\n",
      " [1.51121934]]\n",
      "[[0.18128268 0.65878611 0.42392715]]\n",
      "[[0.705335   0.46941324 0.80847921]\n",
      " [0.93209964 0.21301454 0.34366648]]\n"
     ]
    }
   ],
   "source": [
    "###########################################\n",
    "# from pandas library,\n",
    "#   (a) x = pd.read_csv(\"filepath\") -- reads csv files from the specified path nd stores in x\n",
    "#   (b) x.shape() -- returns a tuple of the dimensions of the data in x\n",
    "#   (c) x.head(int n) -- returns first n(default 5) entries in the data x  \n",
    "#   (d) pd.DataFrame -- it is the object type of x used above and can be viewed as a data holder\n",
    "###########################################\n",
    "df2 = pd.DataFrame(np.array([[1, 2, 3], [4, 5, 6], [7, 8, 9]]),columns=['a', 'b', 'c'])\n",
    "print(df2)\n",
    "print(df2.head(1))\n",
    "d = {'col1': [1, 2], 'col2': [3, 4]}\n",
    "df = pd.DataFrame(data=d)\n",
    "print(df)\n",
    "print(df.shape, df2.shape)\n",
    "##########################################\n",
    "# from numpy library,\n",
    "#   (a)np.random.rand(#dimension#) -- random values arranged in the given shape\n",
    "#               .randn(#dimension#) -- random values from std normal distribution\n",
    "#               .shuffle(x) -- in-place shuffling of contents of seq. x  \n",
    "#               .permutation(x) -- randomly permute a seq.\n",
    "#               .randint(lo,hi,size,dtype),.ranf(size) -- returns random ints between lo and hi of the dtype, \n",
    "#                                                         returns random floats in [0,1)\n",
    "#   (b)np.sum(a,axis = None,out = None,keepdims=<no value>)\n",
    "#            axis -- None - sum of all elements\n",
    "#                 -- otherwise it sums along the axis number\n",
    "#            keepdims -- True broadcasts correctly against input array\n",
    "#             -- False puts it in a np array without\n",
    "#      np.mean works in a similar way except it computes mean\n",
    "#   (c)np.dot(matrix1, matrix2) -- matrix multiplication or inner product for scalar val its just the product\n",
    "#   (d)np.identity(int n) -- returns identity of n X n dimensions\n",
    "#\n",
    "##########################################\n",
    "arr = np.array(df2)\n",
    "print(arr)\n",
    "np.random.seed(17)\n",
    "arr = np.random.rand(2,3)\n",
    "print(arr)\n",
    "arr2 = arr.reshape((6,1))#np.reshape(arr)\n",
    "print(arr2)\n",
    "sd = np.sum(arr,axis = 1,keepdims = True)\n",
    "print(sd)\n",
    "md = np.mean(arr,axis = 0,keepdims = True)\n",
    "print(md)\n",
    "arr3 = np.ones((2,3))\n",
    "print(arr3 - arr)"
   ]
  },
  {
   "cell_type": "code",
   "execution_count": 187,
   "metadata": {},
   "outputs": [],
   "source": [
    "def split_Data(data, ratio):\n",
    "    np.random.seed(47)\n",
    "    #Shuffling data to divide between train and test sets\n",
    "    rndm_data = np.random.permutation(len(data))\n",
    "    train_size = int(len(data)*ratio)\n",
    "    test = rndm_data[train_size:]\n",
    "    train = rndm_data[:train_size]\n",
    "    return data.iloc[train],data.iloc[test]"
   ]
  },
  {
   "cell_type": "code",
   "execution_count": 188,
   "metadata": {},
   "outputs": [
    {
     "name": "stdout",
     "output_type": "stream",
     "text": [
      "Train Set Dims :  (150, 5)\n",
      "Test Set Dims :  (50, 5)\n"
     ]
    }
   ],
   "source": [
    "data = pd.read_csv(\"Advertising Dataset.csv\")\n",
    "train_set,test_set = split_Data(data, 0.75)\n",
    "print(\"Train Set Dims : \", train_set.shape)\n",
    "print(\"Test Set Dims : \", test_set.shape)"
   ]
  },
  {
   "cell_type": "code",
   "execution_count": 189,
   "metadata": {},
   "outputs": [
    {
     "name": "stdout",
     "output_type": "stream",
     "text": [
      "Original Data : \n",
      "   Unnamed: 0     TV  radio  newspaper  sales\n",
      "0           1  230.1   37.8       69.2   22.1\n",
      "1           2   44.5   39.3       45.1   10.4\n",
      "2           3   17.2   45.9       69.3    9.3\n",
      "Train Data : \n",
      "    Unnamed: 0     TV  radio  newspaper  sales\n",
      "5            6    8.7   48.9       75.0    7.2\n",
      "91          92   28.6    1.5       33.0    7.3\n",
      "0            1  230.1   37.8       69.2   22.1\n",
      "Test Data : \n",
      "     Unnamed: 0     TV  radio  newspaper  sales\n",
      "174         175  222.4    3.4       13.1   11.5\n",
      "165         166  234.5    3.4       84.8   11.9\n",
      "144         145   96.2   14.8       38.9   11.4\n"
     ]
    }
   ],
   "source": [
    "print(\"Original Data : \")\n",
    "print(data.head(3))\n",
    "print(\"Train Data : \")\n",
    "print(train_set.head(3))\n",
    "print(\"Test Data : \")\n",
    "print(test_set.head(3))"
   ]
  },
  {
   "cell_type": "code",
   "execution_count": 190,
   "metadata": {},
   "outputs": [
    {
     "name": "stdout",
     "output_type": "stream",
     "text": [
      "(1, 150) (4, 150)\n"
     ]
    }
   ],
   "source": [
    "X_train = np.array([np.ones((150,)),train_set['TV'].values, train_set['radio'].values, train_set['newspaper'].values])\n",
    "Y_train = train_set['sales'].values.reshape((1,150))\n",
    "print(Y_train.shape, X_train.shape)\n",
    "#theta = np.zeros(X_train.shape[0])\n",
    "#print(theta.shape)\n",
    "#print((np.dot((np.dot(theta.T, X_train) - Y_train),X_train.T)).shape)"
   ]
  },
  {
   "cell_type": "markdown",
   "metadata": {},
   "source": [
    "<h3>Linear Regression Using Iterative Gradient Descent"
   ]
  },
  {
   "cell_type": "code",
   "execution_count": 191,
   "metadata": {},
   "outputs": [],
   "source": [
    "def Iterative_Linear_Regression(n, alpha, X, Y):\n",
    "    theta = np.zeros(X.shape[0]).reshape((1,4))\n",
    "    #print(theta)\n",
    "    for i in range(n):\n",
    "        #print((np.dot(theta,X) - Y))\n",
    "        beta = alpha * (np.dot(np.dot(theta, X) - Y, X.T))\n",
    "        theta = theta - beta\n",
    "        #print(np.dot(X,(np.dot(theta.T, X) - Y).T))\n",
    "    return theta"
   ]
  },
  {
   "cell_type": "code",
   "execution_count": 192,
   "metadata": {},
   "outputs": [],
   "source": [
    "theta = Iterative_Linear_Regression(1000, alpha = 0.0000001, X = X_train, Y = Y_train)"
   ]
  },
  {
   "cell_type": "code",
   "execution_count": 193,
   "metadata": {},
   "outputs": [
    {
     "name": "stdout",
     "output_type": "stream",
     "text": [
      "[[0.00845456 0.05328747 0.20729808 0.03067559]]\n"
     ]
    }
   ],
   "source": [
    "print(theta)"
   ]
  },
  {
   "cell_type": "code",
   "execution_count": 194,
   "metadata": {},
   "outputs": [
    {
     "name": "stdout",
     "output_type": "stream",
     "text": [
      "4.297953140785725\n"
     ]
    }
   ],
   "source": [
    "#Testing\n",
    "X_test = np.array([np.ones((50,)),test_set['TV'].values, test_set['radio'].values, test_set['newspaper'].values])\n",
    "Y_test = test_set['sales'].values.reshape((1,50))\n",
    "Y_pred = np.dot(theta,X_test)\n",
    "err = (np.sum((Y_pred - Y_test)**2))/50\n",
    "print(err)"
   ]
  },
  {
   "cell_type": "markdown",
   "metadata": {},
   "source": [
    "<h3>Linear Regression Using Normal Equations"
   ]
  },
  {
   "cell_type": "code",
   "execution_count": 195,
   "metadata": {},
   "outputs": [],
   "source": [
    "theta2 = np.dot(np.linalg.inv(np.dot(X_train,X_train.T)), np.dot(Y_train,X_train.T).T)"
   ]
  },
  {
   "cell_type": "code",
   "execution_count": 196,
   "metadata": {},
   "outputs": [
    {
     "name": "stdout",
     "output_type": "stream",
     "text": [
      "[[0.00845456 0.05328747 0.20729808 0.03067559]]\n",
      "[[2.78784865]\n",
      " [0.04592847]\n",
      " [0.18642685]\n",
      " [0.00390952]]\n"
     ]
    }
   ],
   "source": [
    "#Comparing parameter values\n",
    "print(theta)\n",
    "print(theta2)"
   ]
  },
  {
   "cell_type": "code",
   "execution_count": 197,
   "metadata": {},
   "outputs": [
    {
     "name": "stdout",
     "output_type": "stream",
     "text": [
      "2.244136558294949\n"
     ]
    }
   ],
   "source": [
    "#Testing\n",
    "Y_pred2 = np.dot(theta2.T,X_test)\n",
    "err2 = (np.sum((Y_pred2 - Y_test)**2))/50\n",
    "print(err2)"
   ]
  },
  {
   "cell_type": "markdown",
   "metadata": {},
   "source": [
    "<h3>Linear Regression Using Library Function"
   ]
  },
  {
   "cell_type": "code",
   "execution_count": 200,
   "metadata": {},
   "outputs": [
    {
     "name": "stdout",
     "output_type": "stream",
     "text": [
      "[2.78784865]\n",
      "[[0.04592847 0.18642685 0.00390952]]\n"
     ]
    }
   ],
   "source": [
    "#Usinf Sci-kit's Linear Regression\n",
    "X_train1 = np.array([train_set['TV'].values, train_set['radio'].values, train_set['newspaper'].values])\n",
    "Y_train1 = train_set['sales'].values.reshape((1,150))\n",
    "reg = LinearRegression().fit(X_train1.T, Y_train1.T)\n",
    "reg.score(X_train1.T, Y_train1.T)\n",
    "print(reg.intercept_)\n",
    "print(reg.coef_)\n",
    "#Note: The normal equations and the Scikit library gives the same optimal parameter."
   ]
  },
  {
   "cell_type": "code",
   "execution_count": null,
   "metadata": {},
   "outputs": [],
   "source": []
  }
 ],
 "metadata": {
  "kernelspec": {
   "display_name": "Python 3",
   "language": "python",
   "name": "python3"
  },
  "language_info": {
   "codemirror_mode": {
    "name": "ipython",
    "version": 3
   },
   "file_extension": ".py",
   "mimetype": "text/x-python",
   "name": "python",
   "nbconvert_exporter": "python",
   "pygments_lexer": "ipython3",
   "version": "3.8.5"
  }
 },
 "nbformat": 4,
 "nbformat_minor": 4
}
